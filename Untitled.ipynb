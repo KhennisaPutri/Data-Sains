{
 "cells": [
  {
   "cell_type": "markdown",
   "metadata": {},
   "source": [
    "MANAKAH RESTORAN YANG TERFAVORIT?\n",
    "\n",
    "Parameter dikatakan \"favorit\" :\n",
    "    a. Jumlah orderan diatas 5 ;\n",
    "    b. Pesanan tidak pernah dibatalkan ;\n",
    "    c. Presentase value order yang dibatalkan adalah 0%"
   ]
  },
  {
   "cell_type": "markdown",
   "metadata": {},
   "source": [
    "1. IMPORT LIBARARY DAN DATASET"
   ]
  },
  {
   "cell_type": "code",
   "execution_count": 35,
   "metadata": {},
   "outputs": [],
   "source": [
    "import pandas as pd\n",
    "import numpy as np"
   ]
  },
  {
   "cell_type": "code",
   "execution_count": 14,
   "metadata": {},
   "outputs": [],
   "source": [
    "data = pd.read_csv('../hasilclone/pandas_journey/mydata/food_delivery_datasets.csv')"
   ]
  },
  {
   "cell_type": "code",
   "execution_count": 15,
   "metadata": {
    "jupyter": {
     "source_hidden": true
    }
   },
   "outputs": [
    {
     "data": {
      "text/html": [
       "<div>\n",
       "<style scoped>\n",
       "    .dataframe tbody tr th:only-of-type {\n",
       "        vertical-align: middle;\n",
       "    }\n",
       "\n",
       "    .dataframe tbody tr th {\n",
       "        vertical-align: top;\n",
       "    }\n",
       "\n",
       "    .dataframe thead th {\n",
       "        text-align: right;\n",
       "    }\n",
       "</style>\n",
       "<table border=\"1\" class=\"dataframe\">\n",
       "  <thead>\n",
       "    <tr style=\"text-align: right;\">\n",
       "      <th></th>\n",
       "      <th>order_id</th>\n",
       "      <th>voucher_amount</th>\n",
       "      <th>date_time</th>\n",
       "      <th>eta_seconds</th>\n",
       "      <th>food_price</th>\n",
       "      <th>cust_id</th>\n",
       "      <th>rating</th>\n",
       "      <th>delivery_fee</th>\n",
       "      <th>resto_id</th>\n",
       "      <th>status</th>\n",
       "      <th>random_id</th>\n",
       "    </tr>\n",
       "  </thead>\n",
       "  <tbody>\n",
       "    <tr>\n",
       "      <th>0</th>\n",
       "      <td>FOOD-10455</td>\n",
       "      <td>0</td>\n",
       "      <td>2018-08-12T20:35:08.001006</td>\n",
       "      <td>1800</td>\n",
       "      <td>18900</td>\n",
       "      <td>1089034</td>\n",
       "      <td>5.0</td>\n",
       "      <td>4000</td>\n",
       "      <td>742638033</td>\n",
       "      <td>Completed</td>\n",
       "      <td>0.511149</td>\n",
       "    </tr>\n",
       "    <tr>\n",
       "      <th>1</th>\n",
       "      <td>FOOD-10985</td>\n",
       "      <td>0</td>\n",
       "      <td>2018-09-23T17:44:12.243273</td>\n",
       "      <td>2173</td>\n",
       "      <td>149000</td>\n",
       "      <td>180146</td>\n",
       "      <td>5.0</td>\n",
       "      <td>11000</td>\n",
       "      <td>742767245</td>\n",
       "      <td>Completed</td>\n",
       "      <td>0.832936</td>\n",
       "    </tr>\n",
       "    <tr>\n",
       "      <th>2</th>\n",
       "      <td>FOOD-10911</td>\n",
       "      <td>0</td>\n",
       "      <td>2018-09-19T18:08:09.387991</td>\n",
       "      <td>1418</td>\n",
       "      <td>43800</td>\n",
       "      <td>366528</td>\n",
       "      <td>NaN</td>\n",
       "      <td>9000</td>\n",
       "      <td>742618303</td>\n",
       "      <td>Completed</td>\n",
       "      <td>0.828026</td>\n",
       "    </tr>\n",
       "    <tr>\n",
       "      <th>3</th>\n",
       "      <td>FOOD-10932</td>\n",
       "      <td>0</td>\n",
       "      <td>2018-09-21T01:24:35.272499</td>\n",
       "      <td>1903</td>\n",
       "      <td>39900</td>\n",
       "      <td>511038</td>\n",
       "      <td>5.0</td>\n",
       "      <td>14000</td>\n",
       "      <td>742541172</td>\n",
       "      <td>Completed</td>\n",
       "      <td>0.239377</td>\n",
       "    </tr>\n",
       "    <tr>\n",
       "      <th>4</th>\n",
       "      <td>FOOD-10961</td>\n",
       "      <td>0</td>\n",
       "      <td>2018-09-22T17:57:45.523161</td>\n",
       "      <td>1716</td>\n",
       "      <td>77700</td>\n",
       "      <td>1220358</td>\n",
       "      <td>NaN</td>\n",
       "      <td>4000</td>\n",
       "      <td>742604875</td>\n",
       "      <td>Completed</td>\n",
       "      <td>0.995587</td>\n",
       "    </tr>\n",
       "    <tr>\n",
       "      <th>...</th>\n",
       "      <td>...</td>\n",
       "      <td>...</td>\n",
       "      <td>...</td>\n",
       "      <td>...</td>\n",
       "      <td>...</td>\n",
       "      <td>...</td>\n",
       "      <td>...</td>\n",
       "      <td>...</td>\n",
       "      <td>...</td>\n",
       "      <td>...</td>\n",
       "      <td>...</td>\n",
       "    </tr>\n",
       "    <tr>\n",
       "      <th>1071</th>\n",
       "      <td>FOOD-10921</td>\n",
       "      <td>0</td>\n",
       "      <td>2018-09-20T15:01:52.152828</td>\n",
       "      <td>900</td>\n",
       "      <td>103200</td>\n",
       "      <td>1296335</td>\n",
       "      <td>5.0</td>\n",
       "      <td>4000</td>\n",
       "      <td>742742150</td>\n",
       "      <td>Completed</td>\n",
       "      <td>0.248328</td>\n",
       "    </tr>\n",
       "    <tr>\n",
       "      <th>1072</th>\n",
       "      <td>FOOD-10265</td>\n",
       "      <td>5000</td>\n",
       "      <td>2018-07-26T14:43:23.655294</td>\n",
       "      <td>1579</td>\n",
       "      <td>145700</td>\n",
       "      <td>1135466</td>\n",
       "      <td>5.0</td>\n",
       "      <td>7000</td>\n",
       "      <td>742566851</td>\n",
       "      <td>Completed</td>\n",
       "      <td>0.268251</td>\n",
       "    </tr>\n",
       "    <tr>\n",
       "      <th>1073</th>\n",
       "      <td>FOOD-10534</td>\n",
       "      <td>0</td>\n",
       "      <td>2018-08-21T20:10:59.283185</td>\n",
       "      <td>2606</td>\n",
       "      <td>177200</td>\n",
       "      <td>1383625</td>\n",
       "      <td>NaN</td>\n",
       "      <td>15000</td>\n",
       "      <td>742571888</td>\n",
       "      <td>Completed</td>\n",
       "      <td>0.132528</td>\n",
       "    </tr>\n",
       "    <tr>\n",
       "      <th>1074</th>\n",
       "      <td>FOOD-10158</td>\n",
       "      <td>0</td>\n",
       "      <td>2018-07-16T14:42:23.214427</td>\n",
       "      <td>2428</td>\n",
       "      <td>49300</td>\n",
       "      <td>1094787</td>\n",
       "      <td>5.0</td>\n",
       "      <td>9000</td>\n",
       "      <td>742725064</td>\n",
       "      <td>Completed</td>\n",
       "      <td>0.167946</td>\n",
       "    </tr>\n",
       "    <tr>\n",
       "      <th>1075</th>\n",
       "      <td>FOOD-10770</td>\n",
       "      <td>0</td>\n",
       "      <td>2018-09-11T14:18:19.494258</td>\n",
       "      <td>1547</td>\n",
       "      <td>43000</td>\n",
       "      <td>1010922</td>\n",
       "      <td>5.0</td>\n",
       "      <td>9000</td>\n",
       "      <td>742594499</td>\n",
       "      <td>Completed</td>\n",
       "      <td>0.358051</td>\n",
       "    </tr>\n",
       "  </tbody>\n",
       "</table>\n",
       "<p>1076 rows × 11 columns</p>\n",
       "</div>"
      ],
      "text/plain": [
       "        order_id  voucher_amount                   date_time  eta_seconds  \\\n",
       "0     FOOD-10455               0  2018-08-12T20:35:08.001006         1800   \n",
       "1     FOOD-10985               0  2018-09-23T17:44:12.243273         2173   \n",
       "2     FOOD-10911               0  2018-09-19T18:08:09.387991         1418   \n",
       "3     FOOD-10932               0  2018-09-21T01:24:35.272499         1903   \n",
       "4     FOOD-10961               0  2018-09-22T17:57:45.523161         1716   \n",
       "...          ...             ...                         ...          ...   \n",
       "1071  FOOD-10921               0  2018-09-20T15:01:52.152828          900   \n",
       "1072  FOOD-10265            5000  2018-07-26T14:43:23.655294         1579   \n",
       "1073  FOOD-10534               0  2018-08-21T20:10:59.283185         2606   \n",
       "1074  FOOD-10158               0  2018-07-16T14:42:23.214427         2428   \n",
       "1075  FOOD-10770               0  2018-09-11T14:18:19.494258         1547   \n",
       "\n",
       "      food_price  cust_id  rating  delivery_fee   resto_id     status  \\\n",
       "0          18900  1089034     5.0          4000  742638033  Completed   \n",
       "1         149000   180146     5.0         11000  742767245  Completed   \n",
       "2          43800   366528     NaN          9000  742618303  Completed   \n",
       "3          39900   511038     5.0         14000  742541172  Completed   \n",
       "4          77700  1220358     NaN          4000  742604875  Completed   \n",
       "...          ...      ...     ...           ...        ...        ...   \n",
       "1071      103200  1296335     5.0          4000  742742150  Completed   \n",
       "1072      145700  1135466     5.0          7000  742566851  Completed   \n",
       "1073      177200  1383625     NaN         15000  742571888  Completed   \n",
       "1074       49300  1094787     5.0          9000  742725064  Completed   \n",
       "1075       43000  1010922     5.0          9000  742594499  Completed   \n",
       "\n",
       "      random_id  \n",
       "0      0.511149  \n",
       "1      0.832936  \n",
       "2      0.828026  \n",
       "3      0.239377  \n",
       "4      0.995587  \n",
       "...         ...  \n",
       "1071   0.248328  \n",
       "1072   0.268251  \n",
       "1073   0.132528  \n",
       "1074   0.167946  \n",
       "1075   0.358051  \n",
       "\n",
       "[1076 rows x 11 columns]"
      ]
     },
     "execution_count": 15,
     "metadata": {},
     "output_type": "execute_result"
    }
   ],
   "source": [
    "data"
   ]
  },
  {
   "cell_type": "markdown",
   "metadata": {},
   "source": [
    "2. AMBIL KOLOM RESTO_ID DAN STATUS UNTUK MENJAWAB PERTANYAAN"
   ]
  },
  {
   "cell_type": "code",
   "execution_count": 16,
   "metadata": {},
   "outputs": [
    {
     "data": {
      "text/plain": [
       "resto_id   status   \n",
       "200000639  Completed     73100\n",
       "200000964  Completed     99600\n",
       "200001006  Completed     28900\n",
       "200001973  Completed    155700\n",
       "200001979  Cancelled    110800\n",
       "                         ...  \n",
       "742808523  Completed     39100\n",
       "742809792  Completed     20100\n",
       "742810086  Cancelled    121400\n",
       "742813095  Cancelled     75900\n",
       "742814735  Completed     32100\n",
       "Name: food_price, Length: 767, dtype: int64"
      ]
     },
     "execution_count": 16,
     "metadata": {},
     "output_type": "execute_result"
    }
   ],
   "source": [
    "data.groupby(['resto_id', 'status']).food_price.sum()"
   ]
  },
  {
   "cell_type": "code",
   "execution_count": 17,
   "metadata": {},
   "outputs": [],
   "source": [
    "data_sumrestostatus = data.groupby(['resto_id', 'status']).food_price.sum()"
   ]
  },
  {
   "cell_type": "code",
   "execution_count": 18,
   "metadata": {},
   "outputs": [
    {
     "data": {
      "text/html": [
       "<div>\n",
       "<style scoped>\n",
       "    .dataframe tbody tr th:only-of-type {\n",
       "        vertical-align: middle;\n",
       "    }\n",
       "\n",
       "    .dataframe tbody tr th {\n",
       "        vertical-align: top;\n",
       "    }\n",
       "\n",
       "    .dataframe thead th {\n",
       "        text-align: right;\n",
       "    }\n",
       "</style>\n",
       "<table border=\"1\" class=\"dataframe\">\n",
       "  <thead>\n",
       "    <tr style=\"text-align: right;\">\n",
       "      <th>status</th>\n",
       "      <th>Cancelled</th>\n",
       "      <th>Completed</th>\n",
       "    </tr>\n",
       "    <tr>\n",
       "      <th>resto_id</th>\n",
       "      <th></th>\n",
       "      <th></th>\n",
       "    </tr>\n",
       "  </thead>\n",
       "  <tbody>\n",
       "    <tr>\n",
       "      <th>200000639</th>\n",
       "      <td>NaN</td>\n",
       "      <td>73100.0</td>\n",
       "    </tr>\n",
       "    <tr>\n",
       "      <th>200000964</th>\n",
       "      <td>NaN</td>\n",
       "      <td>99600.0</td>\n",
       "    </tr>\n",
       "    <tr>\n",
       "      <th>200001006</th>\n",
       "      <td>NaN</td>\n",
       "      <td>28900.0</td>\n",
       "    </tr>\n",
       "    <tr>\n",
       "      <th>200001973</th>\n",
       "      <td>NaN</td>\n",
       "      <td>155700.0</td>\n",
       "    </tr>\n",
       "    <tr>\n",
       "      <th>200001979</th>\n",
       "      <td>110800.0</td>\n",
       "      <td>NaN</td>\n",
       "    </tr>\n",
       "    <tr>\n",
       "      <th>...</th>\n",
       "      <td>...</td>\n",
       "      <td>...</td>\n",
       "    </tr>\n",
       "    <tr>\n",
       "      <th>742808523</th>\n",
       "      <td>NaN</td>\n",
       "      <td>39100.0</td>\n",
       "    </tr>\n",
       "    <tr>\n",
       "      <th>742809792</th>\n",
       "      <td>NaN</td>\n",
       "      <td>20100.0</td>\n",
       "    </tr>\n",
       "    <tr>\n",
       "      <th>742810086</th>\n",
       "      <td>121400.0</td>\n",
       "      <td>NaN</td>\n",
       "    </tr>\n",
       "    <tr>\n",
       "      <th>742813095</th>\n",
       "      <td>75900.0</td>\n",
       "      <td>NaN</td>\n",
       "    </tr>\n",
       "    <tr>\n",
       "      <th>742814735</th>\n",
       "      <td>NaN</td>\n",
       "      <td>32100.0</td>\n",
       "    </tr>\n",
       "  </tbody>\n",
       "</table>\n",
       "<p>671 rows × 2 columns</p>\n",
       "</div>"
      ],
      "text/plain": [
       "status     Cancelled  Completed\n",
       "resto_id                       \n",
       "200000639        NaN    73100.0\n",
       "200000964        NaN    99600.0\n",
       "200001006        NaN    28900.0\n",
       "200001973        NaN   155700.0\n",
       "200001979   110800.0        NaN\n",
       "...              ...        ...\n",
       "742808523        NaN    39100.0\n",
       "742809792        NaN    20100.0\n",
       "742810086   121400.0        NaN\n",
       "742813095    75900.0        NaN\n",
       "742814735        NaN    32100.0\n",
       "\n",
       "[671 rows x 2 columns]"
      ]
     },
     "execution_count": 18,
     "metadata": {},
     "output_type": "execute_result"
    }
   ],
   "source": [
    "data_sumrestostatus.unstack('status')"
   ]
  },
  {
   "cell_type": "code",
   "execution_count": 36,
   "metadata": {},
   "outputs": [],
   "source": [
    "df_statusresto = data_sumrestostatus.unstack('status')"
   ]
  },
  {
   "cell_type": "markdown",
   "metadata": {},
   "source": [
    "3. MENAMBAH 1 KOLOM YAKNI JUMLAH_ORDERAN MASING MASING RESTO"
   ]
  },
  {
   "cell_type": "code",
   "execution_count": 37,
   "metadata": {},
   "outputs": [],
   "source": [
    "df_statusresto['jumlah_orderan'] = data_sizeorderanresto"
   ]
  },
  {
   "cell_type": "code",
   "execution_count": 38,
   "metadata": {},
   "outputs": [
    {
     "data": {
      "text/html": [
       "<div>\n",
       "<style scoped>\n",
       "    .dataframe tbody tr th:only-of-type {\n",
       "        vertical-align: middle;\n",
       "    }\n",
       "\n",
       "    .dataframe tbody tr th {\n",
       "        vertical-align: top;\n",
       "    }\n",
       "\n",
       "    .dataframe thead th {\n",
       "        text-align: right;\n",
       "    }\n",
       "</style>\n",
       "<table border=\"1\" class=\"dataframe\">\n",
       "  <thead>\n",
       "    <tr style=\"text-align: right;\">\n",
       "      <th>status</th>\n",
       "      <th>Cancelled</th>\n",
       "      <th>Completed</th>\n",
       "      <th>jumlah_orderan</th>\n",
       "    </tr>\n",
       "    <tr>\n",
       "      <th>resto_id</th>\n",
       "      <th></th>\n",
       "      <th></th>\n",
       "      <th></th>\n",
       "    </tr>\n",
       "  </thead>\n",
       "  <tbody>\n",
       "    <tr>\n",
       "      <th>200000639</th>\n",
       "      <td>NaN</td>\n",
       "      <td>73100.0</td>\n",
       "      <td>1</td>\n",
       "    </tr>\n",
       "    <tr>\n",
       "      <th>200000964</th>\n",
       "      <td>NaN</td>\n",
       "      <td>99600.0</td>\n",
       "      <td>2</td>\n",
       "    </tr>\n",
       "    <tr>\n",
       "      <th>200001006</th>\n",
       "      <td>NaN</td>\n",
       "      <td>28900.0</td>\n",
       "      <td>1</td>\n",
       "    </tr>\n",
       "    <tr>\n",
       "      <th>200001973</th>\n",
       "      <td>NaN</td>\n",
       "      <td>155700.0</td>\n",
       "      <td>1</td>\n",
       "    </tr>\n",
       "    <tr>\n",
       "      <th>200001979</th>\n",
       "      <td>110800.0</td>\n",
       "      <td>NaN</td>\n",
       "      <td>1</td>\n",
       "    </tr>\n",
       "    <tr>\n",
       "      <th>...</th>\n",
       "      <td>...</td>\n",
       "      <td>...</td>\n",
       "      <td>...</td>\n",
       "    </tr>\n",
       "    <tr>\n",
       "      <th>742808523</th>\n",
       "      <td>NaN</td>\n",
       "      <td>39100.0</td>\n",
       "      <td>1</td>\n",
       "    </tr>\n",
       "    <tr>\n",
       "      <th>742809792</th>\n",
       "      <td>NaN</td>\n",
       "      <td>20100.0</td>\n",
       "      <td>1</td>\n",
       "    </tr>\n",
       "    <tr>\n",
       "      <th>742810086</th>\n",
       "      <td>121400.0</td>\n",
       "      <td>NaN</td>\n",
       "      <td>1</td>\n",
       "    </tr>\n",
       "    <tr>\n",
       "      <th>742813095</th>\n",
       "      <td>75900.0</td>\n",
       "      <td>NaN</td>\n",
       "      <td>2</td>\n",
       "    </tr>\n",
       "    <tr>\n",
       "      <th>742814735</th>\n",
       "      <td>NaN</td>\n",
       "      <td>32100.0</td>\n",
       "      <td>1</td>\n",
       "    </tr>\n",
       "  </tbody>\n",
       "</table>\n",
       "<p>671 rows × 3 columns</p>\n",
       "</div>"
      ],
      "text/plain": [
       "status     Cancelled  Completed  jumlah_orderan\n",
       "resto_id                                       \n",
       "200000639        NaN    73100.0               1\n",
       "200000964        NaN    99600.0               2\n",
       "200001006        NaN    28900.0               1\n",
       "200001973        NaN   155700.0               1\n",
       "200001979   110800.0        NaN               1\n",
       "...              ...        ...             ...\n",
       "742808523        NaN    39100.0               1\n",
       "742809792        NaN    20100.0               1\n",
       "742810086   121400.0        NaN               1\n",
       "742813095    75900.0        NaN               2\n",
       "742814735        NaN    32100.0               1\n",
       "\n",
       "[671 rows x 3 columns]"
      ]
     },
     "execution_count": 38,
     "metadata": {},
     "output_type": "execute_result"
    }
   ],
   "source": [
    "df_statusresto"
   ]
  },
  {
   "cell_type": "markdown",
   "metadata": {},
   "source": [
    "4. SET JUMLAH_ORDERAN SESUAI BOUNDARIES AWAL YAKNI RESTO YANG ORDERANNYA LEBIH DARI 5"
   ]
  },
  {
   "cell_type": "code",
   "execution_count": 39,
   "metadata": {},
   "outputs": [
    {
     "data": {
      "text/html": [
       "<div>\n",
       "<style scoped>\n",
       "    .dataframe tbody tr th:only-of-type {\n",
       "        vertical-align: middle;\n",
       "    }\n",
       "\n",
       "    .dataframe tbody tr th {\n",
       "        vertical-align: top;\n",
       "    }\n",
       "\n",
       "    .dataframe thead th {\n",
       "        text-align: right;\n",
       "    }\n",
       "</style>\n",
       "<table border=\"1\" class=\"dataframe\">\n",
       "  <thead>\n",
       "    <tr style=\"text-align: right;\">\n",
       "      <th>status</th>\n",
       "      <th>Cancelled</th>\n",
       "      <th>Completed</th>\n",
       "      <th>jumlah_orderan</th>\n",
       "    </tr>\n",
       "    <tr>\n",
       "      <th>resto_id</th>\n",
       "      <th></th>\n",
       "      <th></th>\n",
       "      <th></th>\n",
       "    </tr>\n",
       "  </thead>\n",
       "  <tbody>\n",
       "    <tr>\n",
       "      <th>200003382</th>\n",
       "      <td>284800.0</td>\n",
       "      <td>344000.0</td>\n",
       "      <td>6</td>\n",
       "    </tr>\n",
       "    <tr>\n",
       "      <th>742538031</th>\n",
       "      <td>48400.0</td>\n",
       "      <td>381400.0</td>\n",
       "      <td>8</td>\n",
       "    </tr>\n",
       "    <tr>\n",
       "      <th>742586477</th>\n",
       "      <td>NaN</td>\n",
       "      <td>317700.0</td>\n",
       "      <td>6</td>\n",
       "    </tr>\n",
       "    <tr>\n",
       "      <th>742591683</th>\n",
       "      <td>217000.0</td>\n",
       "      <td>588700.0</td>\n",
       "      <td>12</td>\n",
       "    </tr>\n",
       "    <tr>\n",
       "      <th>742602057</th>\n",
       "      <td>149400.0</td>\n",
       "      <td>233000.0</td>\n",
       "      <td>6</td>\n",
       "    </tr>\n",
       "    <tr>\n",
       "      <th>742610474</th>\n",
       "      <td>45500.0</td>\n",
       "      <td>224900.0</td>\n",
       "      <td>12</td>\n",
       "    </tr>\n",
       "    <tr>\n",
       "      <th>742617670</th>\n",
       "      <td>97600.0</td>\n",
       "      <td>341800.0</td>\n",
       "      <td>6</td>\n",
       "    </tr>\n",
       "    <tr>\n",
       "      <th>742622470</th>\n",
       "      <td>716100.0</td>\n",
       "      <td>88600.0</td>\n",
       "      <td>9</td>\n",
       "    </tr>\n",
       "    <tr>\n",
       "      <th>742676756</th>\n",
       "      <td>90800.0</td>\n",
       "      <td>336600.0</td>\n",
       "      <td>9</td>\n",
       "    </tr>\n",
       "    <tr>\n",
       "      <th>742731698</th>\n",
       "      <td>75000.0</td>\n",
       "      <td>306300.0</td>\n",
       "      <td>9</td>\n",
       "    </tr>\n",
       "  </tbody>\n",
       "</table>\n",
       "</div>"
      ],
      "text/plain": [
       "status     Cancelled  Completed  jumlah_orderan\n",
       "resto_id                                       \n",
       "200003382   284800.0   344000.0               6\n",
       "742538031    48400.0   381400.0               8\n",
       "742586477        NaN   317700.0               6\n",
       "742591683   217000.0   588700.0              12\n",
       "742602057   149400.0   233000.0               6\n",
       "742610474    45500.0   224900.0              12\n",
       "742617670    97600.0   341800.0               6\n",
       "742622470   716100.0    88600.0               9\n",
       "742676756    90800.0   336600.0               9\n",
       "742731698    75000.0   306300.0               9"
      ]
     },
     "execution_count": 39,
     "metadata": {},
     "output_type": "execute_result"
    }
   ],
   "source": [
    "df_statusresto[df_statusresto['jumlah_orderan']>5]"
   ]
  },
  {
   "cell_type": "code",
   "execution_count": 40,
   "metadata": {},
   "outputs": [],
   "source": [
    "df_restostatus_b = df_statusresto[df_statusresto['jumlah_orderan']>5]"
   ]
  },
  {
   "cell_type": "code",
   "execution_count": 41,
   "metadata": {},
   "outputs": [
    {
     "data": {
      "text/plain": [
       "status\n",
       "Cancelled    1724600.0\n",
       "Completed    3163000.0\n",
       "dtype: float64"
      ]
     },
     "execution_count": 41,
     "metadata": {},
     "output_type": "execute_result"
    }
   ],
   "source": [
    "df_restostatus_b[['Cancelled','Completed']].sum()"
   ]
  },
  {
   "cell_type": "code",
   "execution_count": 42,
   "metadata": {},
   "outputs": [
    {
     "data": {
      "text/plain": [
       "resto_id\n",
       "200003382    628800.0\n",
       "742538031    429800.0\n",
       "742586477    317700.0\n",
       "742591683    805700.0\n",
       "742602057    382400.0\n",
       "742610474    270400.0\n",
       "742617670    439400.0\n",
       "742622470    804700.0\n",
       "742676756    427400.0\n",
       "742731698    381300.0\n",
       "dtype: float64"
      ]
     },
     "execution_count": 42,
     "metadata": {},
     "output_type": "execute_result"
    }
   ],
   "source": [
    "df_restostatus_b[['Cancelled','Completed']].sum(axis = 1)"
   ]
  },
  {
   "cell_type": "markdown",
   "metadata": {},
   "source": [
    "5. MENGHITUNG PRESENTASI ORDER YANG DICANCEL"
   ]
  },
  {
   "cell_type": "code",
   "execution_count": 43,
   "metadata": {},
   "outputs": [
    {
     "name": "stderr",
     "output_type": "stream",
     "text": [
      "<ipython-input-43-66ed9613085b>:1: SettingWithCopyWarning: \n",
      "A value is trying to be set on a copy of a slice from a DataFrame.\n",
      "Try using .loc[row_indexer,col_indexer] = value instead\n",
      "\n",
      "See the caveats in the documentation: https://pandas.pydata.org/pandas-docs/stable/user_guide/indexing.html#returning-a-view-versus-a-copy\n",
      "  df_restostatus_b['value_total'] = df_restostatus_b[['Cancelled','Completed']].sum(axis = 1)\n"
     ]
    }
   ],
   "source": [
    "df_restostatus_b['value_total'] = df_restostatus_b[['Cancelled','Completed']].sum(axis = 1)"
   ]
  },
  {
   "cell_type": "code",
   "execution_count": 44,
   "metadata": {},
   "outputs": [
    {
     "name": "stderr",
     "output_type": "stream",
     "text": [
      "<ipython-input-44-8cca549f9798>:1: SettingWithCopyWarning: \n",
      "A value is trying to be set on a copy of a slice from a DataFrame.\n",
      "Try using .loc[row_indexer,col_indexer] = value instead\n",
      "\n",
      "See the caveats in the documentation: https://pandas.pydata.org/pandas-docs/stable/user_guide/indexing.html#returning-a-view-versus-a-copy\n",
      "  df_restostatus_b['presentase_cancel'] = df_restostatus_b['Cancelled']/df_restostatus_b['value_total']\n"
     ]
    }
   ],
   "source": [
    "df_restostatus_b['presentase_cancel'] = df_restostatus_b['Cancelled']/df_restostatus_b['value_total']"
   ]
  },
  {
   "cell_type": "code",
   "execution_count": 45,
   "metadata": {},
   "outputs": [
    {
     "data": {
      "text/plain": [
       "resto_id\n",
       "200003382    0.452926\n",
       "742538031    0.112611\n",
       "742586477         NaN\n",
       "742591683    0.269331\n",
       "742602057    0.390690\n",
       "742610474    0.168269\n",
       "742617670    0.222121\n",
       "742622470    0.889897\n",
       "742676756    0.212447\n",
       "742731698    0.196696\n",
       "Name: presentase_cancel, dtype: float64"
      ]
     },
     "execution_count": 45,
     "metadata": {},
     "output_type": "execute_result"
    }
   ],
   "source": [
    "df_restostatus_b['presentase_cancel']"
   ]
  },
  {
   "cell_type": "code",
   "execution_count": 46,
   "metadata": {},
   "outputs": [
    {
     "name": "stderr",
     "output_type": "stream",
     "text": [
      "<ipython-input-46-f62de8fe7f2e>:1: SettingWithCopyWarning: \n",
      "A value is trying to be set on a copy of a slice from a DataFrame.\n",
      "Try using .loc[row_indexer,col_indexer] = value instead\n",
      "\n",
      "See the caveats in the documentation: https://pandas.pydata.org/pandas-docs/stable/user_guide/indexing.html#returning-a-view-versus-a-copy\n",
      "  df_restostatus_b['presentase_cancel'] = (df_restostatus_b['Cancelled']/df_restostatus_b['value_total']).fillna(0)\n"
     ]
    }
   ],
   "source": [
    "df_restostatus_b['presentase_cancel'] = (df_restostatus_b['Cancelled']/df_restostatus_b['value_total']).fillna(0)"
   ]
  },
  {
   "cell_type": "code",
   "execution_count": 47,
   "metadata": {},
   "outputs": [
    {
     "data": {
      "text/plain": [
       "resto_id\n",
       "200003382    0.452926\n",
       "742538031    0.112611\n",
       "742586477    0.000000\n",
       "742591683    0.269331\n",
       "742602057    0.390690\n",
       "742610474    0.168269\n",
       "742617670    0.222121\n",
       "742622470    0.889897\n",
       "742676756    0.212447\n",
       "742731698    0.196696\n",
       "Name: presentase_cancel, dtype: float64"
      ]
     },
     "execution_count": 47,
     "metadata": {},
     "output_type": "execute_result"
    }
   ],
   "source": [
    "df_restostatus_b['presentase_cancel']"
   ]
  },
  {
   "cell_type": "code",
   "execution_count": 48,
   "metadata": {},
   "outputs": [
    {
     "data": {
      "text/html": [
       "<div>\n",
       "<style scoped>\n",
       "    .dataframe tbody tr th:only-of-type {\n",
       "        vertical-align: middle;\n",
       "    }\n",
       "\n",
       "    .dataframe tbody tr th {\n",
       "        vertical-align: top;\n",
       "    }\n",
       "\n",
       "    .dataframe thead th {\n",
       "        text-align: right;\n",
       "    }\n",
       "</style>\n",
       "<table border=\"1\" class=\"dataframe\">\n",
       "  <thead>\n",
       "    <tr style=\"text-align: right;\">\n",
       "      <th>status</th>\n",
       "      <th>Cancelled</th>\n",
       "      <th>Completed</th>\n",
       "      <th>jumlah_orderan</th>\n",
       "      <th>value_total</th>\n",
       "      <th>presentase_cancel</th>\n",
       "    </tr>\n",
       "    <tr>\n",
       "      <th>resto_id</th>\n",
       "      <th></th>\n",
       "      <th></th>\n",
       "      <th></th>\n",
       "      <th></th>\n",
       "      <th></th>\n",
       "    </tr>\n",
       "  </thead>\n",
       "  <tbody>\n",
       "    <tr>\n",
       "      <th>742622470</th>\n",
       "      <td>716100.0</td>\n",
       "      <td>88600.0</td>\n",
       "      <td>9</td>\n",
       "      <td>804700.0</td>\n",
       "      <td>0.889897</td>\n",
       "    </tr>\n",
       "    <tr>\n",
       "      <th>200003382</th>\n",
       "      <td>284800.0</td>\n",
       "      <td>344000.0</td>\n",
       "      <td>6</td>\n",
       "      <td>628800.0</td>\n",
       "      <td>0.452926</td>\n",
       "    </tr>\n",
       "    <tr>\n",
       "      <th>742602057</th>\n",
       "      <td>149400.0</td>\n",
       "      <td>233000.0</td>\n",
       "      <td>6</td>\n",
       "      <td>382400.0</td>\n",
       "      <td>0.390690</td>\n",
       "    </tr>\n",
       "    <tr>\n",
       "      <th>742591683</th>\n",
       "      <td>217000.0</td>\n",
       "      <td>588700.0</td>\n",
       "      <td>12</td>\n",
       "      <td>805700.0</td>\n",
       "      <td>0.269331</td>\n",
       "    </tr>\n",
       "    <tr>\n",
       "      <th>742617670</th>\n",
       "      <td>97600.0</td>\n",
       "      <td>341800.0</td>\n",
       "      <td>6</td>\n",
       "      <td>439400.0</td>\n",
       "      <td>0.222121</td>\n",
       "    </tr>\n",
       "    <tr>\n",
       "      <th>742676756</th>\n",
       "      <td>90800.0</td>\n",
       "      <td>336600.0</td>\n",
       "      <td>9</td>\n",
       "      <td>427400.0</td>\n",
       "      <td>0.212447</td>\n",
       "    </tr>\n",
       "    <tr>\n",
       "      <th>742731698</th>\n",
       "      <td>75000.0</td>\n",
       "      <td>306300.0</td>\n",
       "      <td>9</td>\n",
       "      <td>381300.0</td>\n",
       "      <td>0.196696</td>\n",
       "    </tr>\n",
       "    <tr>\n",
       "      <th>742610474</th>\n",
       "      <td>45500.0</td>\n",
       "      <td>224900.0</td>\n",
       "      <td>12</td>\n",
       "      <td>270400.0</td>\n",
       "      <td>0.168269</td>\n",
       "    </tr>\n",
       "    <tr>\n",
       "      <th>742538031</th>\n",
       "      <td>48400.0</td>\n",
       "      <td>381400.0</td>\n",
       "      <td>8</td>\n",
       "      <td>429800.0</td>\n",
       "      <td>0.112611</td>\n",
       "    </tr>\n",
       "    <tr>\n",
       "      <th>742586477</th>\n",
       "      <td>NaN</td>\n",
       "      <td>317700.0</td>\n",
       "      <td>6</td>\n",
       "      <td>317700.0</td>\n",
       "      <td>0.000000</td>\n",
       "    </tr>\n",
       "  </tbody>\n",
       "</table>\n",
       "</div>"
      ],
      "text/plain": [
       "status     Cancelled  Completed  jumlah_orderan  value_total  \\\n",
       "resto_id                                                       \n",
       "742622470   716100.0    88600.0               9     804700.0   \n",
       "200003382   284800.0   344000.0               6     628800.0   \n",
       "742602057   149400.0   233000.0               6     382400.0   \n",
       "742591683   217000.0   588700.0              12     805700.0   \n",
       "742617670    97600.0   341800.0               6     439400.0   \n",
       "742676756    90800.0   336600.0               9     427400.0   \n",
       "742731698    75000.0   306300.0               9     381300.0   \n",
       "742610474    45500.0   224900.0              12     270400.0   \n",
       "742538031    48400.0   381400.0               8     429800.0   \n",
       "742586477        NaN   317700.0               6     317700.0   \n",
       "\n",
       "status     presentase_cancel  \n",
       "resto_id                      \n",
       "742622470           0.889897  \n",
       "200003382           0.452926  \n",
       "742602057           0.390690  \n",
       "742591683           0.269331  \n",
       "742617670           0.222121  \n",
       "742676756           0.212447  \n",
       "742731698           0.196696  \n",
       "742610474           0.168269  \n",
       "742538031           0.112611  \n",
       "742586477           0.000000  "
      ]
     },
     "execution_count": 48,
     "metadata": {},
     "output_type": "execute_result"
    }
   ],
   "source": [
    "df_restostatus_b.sort_values('presentase_cancel', ascending=False)"
   ]
  },
  {
   "cell_type": "markdown",
   "metadata": {},
   "source": [
    "Diperoleh, resto terfavorit adalah resto dengan id 742586477 (memenuhi boundaries jumlah orderan diatas lima dan presentase cancel 0 persen)"
   ]
  },
  {
   "cell_type": "code",
   "execution_count": null,
   "metadata": {},
   "outputs": [],
   "source": []
  }
 ],
 "metadata": {
  "kernelspec": {
   "display_name": "Python 3",
   "language": "python",
   "name": "python3"
  },
  "language_info": {
   "codemirror_mode": {
    "name": "ipython",
    "version": 3
   },
   "file_extension": ".py",
   "mimetype": "text/x-python",
   "name": "python",
   "nbconvert_exporter": "python",
   "pygments_lexer": "ipython3",
   "version": "3.8.3"
  }
 },
 "nbformat": 4,
 "nbformat_minor": 4
}
